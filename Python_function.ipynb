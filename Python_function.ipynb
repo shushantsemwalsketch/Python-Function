{
  "nbformat": 4,
  "nbformat_minor": 0,
  "metadata": {
    "colab": {
      "provenance": []
    },
    "kernelspec": {
      "name": "python3",
      "display_name": "Python 3"
    },
    "language_info": {
      "name": "python"
    }
  },
  "cells": [
    {
      "cell_type": "markdown",
      "source": [
        "1. What is the difference between a function and a method in Python?\n",
        "\n",
        "    A function is a block of reusable code that is independent and can be called by its name.\n",
        "    A method is similar to a function but is always associated with an object and is called using the object (e.g., string.upper()).\n",
        "\n",
        "2. Explain the concept of function arguments and parameters in Python.\n",
        "\n",
        "    Parameters are variables defined inside the function definition.\n",
        "    Arguments are the actual values passed to the function when it is called.\n",
        "\n",
        "3. What are the different ways to define and call a function in Python?\n",
        "\n",
        "    Functions can be defined using the def keyword or using a lambda expression.\n",
        "    They can be called by using their name followed by parentheses containing any required arguments.\n",
        "\n",
        "4. What is the purpose of the return statement in a Python function?\n",
        "\n",
        "    The return statement is used to send a value back to the caller of the function.\n",
        "    If a function does not have a return statement, it returns None by default.\n",
        "\n",
        "5. What are iterators in Python and how do they differ from iterables?\n",
        "    \n",
        "    An iterable is any object that can return an iterator (like lists, tuples, strings).\n",
        "    An iterator is an object that keeps state and produces the next value when next() is called.\n",
        "    The key difference is that an iterable can be looped over, while an iterator gives values one at a time.\n",
        "\n",
        "6. Explain the concept of generators in Python and how they are defined.\n",
        "\n",
        "    A generator is a special type of iterator that is created using a function with the yield keyword.\n",
        "    It allows values to be produced one at a time, instead of returning them all at once.\n",
        "\n",
        "7. What are the advantages of using generators over regular functions?\n",
        "\n",
        "    Generators are memory efficient because they don’t store all values in memory.They support lazy evaluation, meaning values are produced only when needed.They make handling large or infinite data sequences possible.\n",
        "\n",
        "8. What is a lambda function in Python and when is it typically used?\n",
        "\n",
        "    A lambda function is a small anonymous function defined without a name.\n",
        "    It is often used for short, simple operations where defining a full function with def would be unnecessary.\n",
        "\n",
        "9. Explain the purpose and usage of the map() function in Python.\n",
        "\n",
        "    The map() function applies a given function to every item in an iterable and returns an iterator with the results.It is useful for transforming collections of data.\n",
        "\n",
        "10. What is the difference between map(), reduce(), and filter() functions in Python?\n",
        "\n",
        "    map() applies a function to each element of an iterable and returns the transformed values.\n",
        "\n",
        "    filter() selects elements from an iterable based on a condition and returns only those that satisfy it.\n",
        "\n",
        "    reduce() applies a function cumulatively to all elements in an iterable to reduce it to a single value (requires functools.reduce).\n",
        "\n",
        "11. Using pen & paper write the internal mechanism for sum operation using reduce function on the list [47, 11, 42, 13].\n",
        "\n",
        "    First, import reduce from functools.\n",
        "    reduce applies a function cumulatively to the elements of an iterable.\n",
        "\n",
        "    Our list is:\n",
        "    [47, 11, 42, 13]\n",
        "\n",
        "    Internal working of reduce(lambda x, y: x + y, [47, 11, 42, 13]):\n",
        "\n",
        "    Step 1: Take first two elements → 47 and 11\n",
        "    47 + 11 = 58\n",
        "\n",
        "    Step 2: Take result 58 and next element 42\n",
        "    58 + 42 = 100\n",
        "\n",
        "    Step 3: Take result 100 and next element 13\n",
        "    100 + 13 = 113\n",
        "\n",
        "    No more elements left.\n",
        "\n",
        "    Final Result = 113"
      ],
      "metadata": {
        "id": "zBhIEvMUjSKD"
      }
    },
    {
      "cell_type": "code",
      "execution_count": 1,
      "metadata": {
        "id": "OcreLR3uh6QR"
      },
      "outputs": [],
      "source": [
        "# 1. Write a Python function that takes a list of numbers as input and returns the sum of all even numbers in the list.\n",
        "def sum_even_numbers(nums):\n",
        "    return sum(num for num in nums if num % 2 == 0)"
      ]
    },
    {
      "cell_type": "code",
      "source": [
        "\n",
        "# 2. Create a Python function that accepts a string and returns the reverse of that string.\n",
        "def reverse_string(s):\n",
        "    return s[::-1]"
      ],
      "metadata": {
        "id": "zQzSlLdFlg7e"
      },
      "execution_count": 2,
      "outputs": []
    },
    {
      "cell_type": "code",
      "source": [
        "# 3. Implement a Python function that takes a list of integers and returns a new list containing the squares of each number.\n",
        "def square_list(nums):\n",
        "    return [num ** 2 for num in nums]\n",
        "\n"
      ],
      "metadata": {
        "id": "MppPJYbMljDM"
      },
      "execution_count": 3,
      "outputs": []
    },
    {
      "cell_type": "code",
      "source": [
        "# 4. Write a Python function that checks if a given number is prime or not from 1 to 200.\n",
        "def is_prime(n):\n",
        "    if n < 2:\n",
        "        return False\n",
        "    for i in range(2, int(n**0.5) + 1):\n",
        "        if n % i == 0:\n",
        "            return False\n",
        "    return True\n",
        "\n",
        "primes = [n for n in range(1, 201) if is_prime(n)]"
      ],
      "metadata": {
        "id": "xZ7IM7LWllCj"
      },
      "execution_count": 4,
      "outputs": []
    },
    {
      "cell_type": "code",
      "source": [
        "# 5. Create an iterator class in Python that generates the Fibonacci sequence up to a specified number of terms.\n",
        "class FibonacciIterator:\n",
        "    def __init__(self, n):\n",
        "        self.n = n\n",
        "        self.a, self.b, self.count = 0, 1, 0\n",
        "\n",
        "    def __iter__(self):\n",
        "        return self\n",
        "\n",
        "    def __next__(self):\n",
        "        if self.count >= self.n:\n",
        "            raise StopIteration\n",
        "        self.count += 1\n",
        "        self.a, self.b = self.b, self.a + self.b\n",
        "        return self.a"
      ],
      "metadata": {
        "id": "g76D1Uzvln-H"
      },
      "execution_count": 5,
      "outputs": []
    },
    {
      "cell_type": "code",
      "source": [
        "# 6. Write a generator function in Python that yields the powers of 2 up to a given exponent.\n",
        "def powers_of_two(n):\n",
        "    for i in range(n + 1):\n",
        "        yield 2 ** i\n",
        "\n"
      ],
      "metadata": {
        "id": "4s-MCUYelqrG"
      },
      "execution_count": 13,
      "outputs": []
    },
    {
      "cell_type": "code",
      "source": [
        "# 7. Implement a generator function that reads a file line by line and yields each line as a string.\n",
        "def read_file_lines(filename):\n",
        "    with open(filename, 'r') as f:\n",
        "        for line in f:\n",
        "            yield line.strip()"
      ],
      "metadata": {
        "id": "uAm_4uWYltST"
      },
      "execution_count": 7,
      "outputs": []
    },
    {
      "cell_type": "code",
      "source": [
        "# 8. Use a lambda function in Python to sort a list of tuples based on the second element of each tuple.\n",
        "tuples = [(1, 3), (2, 1), (4, 2)]\n",
        "sorted_tuples = sorted(tuples, key=lambda x: x[1])"
      ],
      "metadata": {
        "id": "UJwS55gblzTu"
      },
      "execution_count": 8,
      "outputs": []
    },
    {
      "cell_type": "code",
      "source": [
        "# 9. Write a Python program that uses map() to convert a list of temperatures from Celsius to Fahrenheit.\n",
        "temps_c = [0, 20, 30, 40]\n",
        "temps_f = list(map(lambda c: (c * 9/5) + 32, temps_c))"
      ],
      "metadata": {
        "id": "VBeCpwq-l13l"
      },
      "execution_count": 9,
      "outputs": []
    },
    {
      "cell_type": "code",
      "source": [
        "# 10. Create a Python program that uses filter() to remove all the vowels from a given string.\n",
        "string = \"hello world\"\n",
        "result = \"\".join(filter(lambda x: x.lower() not in \"aeiou\", string))"
      ],
      "metadata": {
        "id": "teCMtGpGl4Ey"
      },
      "execution_count": 10,
      "outputs": []
    },
    {
      "cell_type": "code",
      "source": [
        "# 11. Imagine an accounting routine used in a book shop.\n",
        "# It works on a list with sublists. Return a list with 2-tuples (order number, total price).\n",
        "# Add 10 if total < 100.\n",
        "orders = [\n",
        "    [\"34587\", \"Learning Python\", 4, 40.95],\n",
        "    [\"98762\", \"Programming Python\", 5, 56.80],\n",
        "    [\"77226\", \"Head First Python\", 3, 32.95],\n",
        "    [\"88112\", \"Einführung in Python3\", 3, 24.99]\n",
        "]\n",
        "\n",
        "result = list(map(lambda order: (order[0], order[2]*order[3] if order[2]*order[3] >= 100 else order[2]*order[3] + 10), orders))"
      ],
      "metadata": {
        "id": "5ploGDcGl6Ac"
      },
      "execution_count": 12,
      "outputs": []
    },
    {
      "cell_type": "code",
      "source": [],
      "metadata": {
        "id": "Duwt-cVTl9xk"
      },
      "execution_count": null,
      "outputs": []
    }
  ]
}